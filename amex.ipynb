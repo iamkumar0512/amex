{
 "cells": [
  {
   "cell_type": "code",
   "execution_count": 697,
   "metadata": {
    "id": "Tzi-_mFiMDOV"
   },
   "outputs": [],
   "source": [
    "import numpy as np\n",
    "import pandas as pd"
   ]
  },
  {
   "cell_type": "code",
   "execution_count": 749,
   "metadata": {
    "colab": {
     "base_uri": "https://localhost:8080/",
     "height": 303
    },
    "id": "VVeQfQ4eMDOZ",
    "outputId": "9a860a3c-ab51-4f47-a2e2-cdafe53cf05c"
   },
   "outputs": [],
   "source": [
    "df = pd.read_csv(\"Training_Data_0611N.csv\", index_col='cust_id', skipfooter=4, engine='python')\n",
    "ev_df = pd.read_csv(\"Evaluation_Data_0611_Nv.csv\", index_col='cust_id', engine='python')"
   ]
  },
  {
   "cell_type": "code",
   "execution_count": 750,
   "metadata": {
    "colab": {
     "base_uri": "https://localhost:8080/",
     "height": 303
    },
    "id": "VVeQfQ4eMDOZ",
    "outputId": "9a860a3c-ab51-4f47-a2e2-cdafe53cf05c"
   },
   "outputs": [],
   "source": [
    "flag = df['profitable_flag']"
   ]
  },
  {
   "cell_type": "code",
   "execution_count": 751,
   "metadata": {
    "id": "C7cbKSTGMDOb"
   },
   "outputs": [
    {
     "name": "stdout",
     "output_type": "stream",
     "text": [
      "(19595, 48) (5000, 48)\n"
     ]
    }
   ],
   "source": [
    "train = df.drop(['profitable_flag'],axis=1)\n",
    "print(train.shape,ev_df.shape)"
   ]
  },
  {
   "cell_type": "code",
   "execution_count": 783,
   "metadata": {
    "id": "ZGhwwSK-MDOe"
   },
   "outputs": [
    {
     "name": "stdout",
     "output_type": "stream",
     "text": [
      "         count_accts  cm_age  flag_top_ed_spender  flag_cust_fee_paid_6m  \\\n",
      "cust_id                                                                    \n",
      "550391             1      74                  1.0                    0.0   \n",
      "550392             1      64                  0.0                    0.0   \n",
      "550393             1      75                  1.0                    0.0   \n",
      "550394             2      73                  0.0                    1.0   \n",
      "550395             2      68                  0.0                    0.0   \n",
      "...              ...     ...                  ...                    ...   \n",
      "574981             1      36                  1.0                    0.0   \n",
      "574982             1      35                  1.0                    0.0   \n",
      "574983             1      28                  0.0                    0.0   \n",
      "574984             1      34                  0.0                    0.0   \n",
      "574985             2      40                  1.0                    0.0   \n",
      "\n",
      "        pre6m_cust_spend  pre6m_cust_roc_cnt pre6m_cust_non_disc_amt  \\\n",
      "cust_id                                                                \n",
      "550391            1,518                  122                    811    \n",
      "550392            4,807                  354                  1,052    \n",
      "550393            2,361                  204                  1,351    \n",
      "550394            5,452                  142                  1,195    \n",
      "550395              170                   34                     88    \n",
      "...                  ...                 ...                     ...   \n",
      "574981            6,635                  160                  5,293    \n",
      "574982            3,384                  612                  2,089    \n",
      "574983            3,611                  620                    974    \n",
      "574984              926                   80                    290    \n",
      "574985            3,111                  356                  2,067    \n",
      "\n",
      "         pre6m_cust_non_disc_cnt pre6m_cust_disc_amt  pre6m_cust_disc_cnt  \\\n",
      "cust_id                                                                     \n",
      "550391                        96                707                    26   \n",
      "550392                        82              3,756                   272   \n",
      "550393                       118              1,010                    86   \n",
      "550394                        50              4,257                    92   \n",
      "550395                        20                 82                    14   \n",
      "...                          ...                 ...                  ...   \n",
      "574981                        96              1,342                    64   \n",
      "574982                       322              1,295                   290   \n",
      "574983                       138              2,638                   482   \n",
      "574984                        38                635                    42   \n",
      "574985                       228              1,043                   128   \n",
      "\n",
      "         ... cnsumr_chrg_actv_cust_cnt cnsumr_chrg_avg_credit_12m_amt  \\\n",
      "cust_id  ...                                                            \n",
      "550391   ...                       0.0                           -      \n",
      "550392   ...                       0.0                             7    \n",
      "550393   ...                       0.0                           -      \n",
      "550394   ...                       1.0                           493    \n",
      "550395   ...                       0.0                           -      \n",
      "...      ...                       ...                            ...   \n",
      "574981   ...                       NaN                           -      \n",
      "574982   ...                       0.0                           -      \n",
      "574983   ...                       0.0                           -      \n",
      "574984   ...                       0.0                           -      \n",
      "574985   ...                       1.0                           392    \n",
      "\n",
      "         cnsumr_lend_actv_cust_cnt cnsumr_lend_tot_util_ratio  \\\n",
      "cust_id                                                         \n",
      "550391                         1.0                   0.034044   \n",
      "550392                         1.0                   0.044086   \n",
      "550393                         1.0                   0.039613   \n",
      "550394                         1.0                   0.001200   \n",
      "550395                         2.0                   0.003378   \n",
      "...                            ...                        ...   \n",
      "574981                         NaN                        NaN   \n",
      "574982                         1.0                   0.051701   \n",
      "574983                         1.0                   0.305875   \n",
      "574984                         1.0                   0.194071   \n",
      "574985                         1.0                   0.000000   \n",
      "\n",
      "         sow_revol_avg_paydown_pct sow_tot_annual_ext_pmt_amt  \\\n",
      "cust_id                                                         \n",
      "550391                      0.0000                       991    \n",
      "550392                      0.0877                         2    \n",
      "550393                      0.0000                     4,828    \n",
      "550394                      0.0000                     4,598    \n",
      "550395                      0.0168                     2,176    \n",
      "...                            ...                        ...   \n",
      "574981                         NaN                       -      \n",
      "574982                      0.0000                       -      \n",
      "574983                      0.0000                       -      \n",
      "574984                      0.0000                       -      \n",
      "574985                      0.0271                     1,281    \n",
      "\n",
      "         sow_tot_revol_bal_amt  sow_tot_revol_cnt  sow_tot_trans_bal_amt  \\\n",
      "cust_id                                                                    \n",
      "550391                    -                   0.0                   -      \n",
      "550392                     24                 2.0                   -      \n",
      "550393                    -                   0.0                   387    \n",
      "550394                    -                   0.0                   295    \n",
      "550395                  2,606                 5.0                   143    \n",
      "...                        ...                ...                    ...   \n",
      "574981                    -                   NaN                   -      \n",
      "574982                    -                   0.0                   -      \n",
      "574983                    -                   0.0                   -      \n",
      "574984                    -                   0.0                   -      \n",
      "574985                  1,326                 2.0                   -      \n",
      "\n",
      "        sow_tot_trans_cnt  \n",
      "cust_id                    \n",
      "550391                3.0  \n",
      "550392                0.0  \n",
      "550393                3.0  \n",
      "550394                4.0  \n",
      "550395               13.0  \n",
      "...                   ...  \n",
      "574981                NaN  \n",
      "574982                0.0  \n",
      "574983                0.0  \n",
      "574984                0.0  \n",
      "574985                0.0  \n",
      "\n",
      "[24595 rows x 48 columns]\n"
     ]
    }
   ],
   "source": [
    "train_df = pd.concat([train,ev_df])\n",
    "train_df.shape\n",
    "print(train_df)"
   ]
  },
  {
   "cell_type": "code",
   "execution_count": 784,
   "metadata": {
    "id": "55p1u_SHMDOh"
   },
   "outputs": [
    {
     "data": {
      "text/plain": [
       "Index(['count_accts', 'cm_age', 'flag_top_ed_spender', 'flag_cust_fee_paid_6m',\n",
       "       'pre6m_cust_spend', 'pre6m_cust_roc_cnt', 'pre6m_cust_non_disc_amt',\n",
       "       'pre6m_cust_non_disc_cnt', 'pre6m_cust_disc_amt', 'pre6m_cust_disc_cnt',\n",
       "       'pre6m_cust_outbound_amt', 'pre6m_cust_online_amt',\n",
       "       'pre6m_cust_online_cnt', 'pre6m_cust_travel_amt',\n",
       "       'pre6m_cust_travel_cnt', 'pre6m_cust_retail_amt',\n",
       "       'pre6m_cust_retail_cnt', 'pre6m_cust_myca_active',\n",
       "       'pre6m_cust_mob_logins', 'pre6m_total_mc_trs', 'acq_sub_chn',\n",
       "       'acq_type_grp', 'fee_type_grp', 'Cust_tenure', 'pre6m_spend_active_ind',\n",
       "       'highly_utilized_ind', 'min_pay_ind', 'paid_in_full_ind',\n",
       "       'sum_total_line_amt', 'direct_debit_ind', 'referrals', 'spillover',\n",
       "       'self_accts', 'Customer Low Quality indicator', 'cdss_most_rcnt_prob',\n",
       "       'cust_max_credit_12m_amt', 'cust_max_remit_12m_amt', 'cbr_3_score',\n",
       "       'cnsumr_chrg_actv_cust_cnt', 'cnsumr_chrg_avg_credit_12m_amt',\n",
       "       'cnsumr_lend_actv_cust_cnt', 'cnsumr_lend_tot_util_ratio',\n",
       "       'sow_revol_avg_paydown_pct', 'sow_tot_annual_ext_pmt_amt',\n",
       "       'sow_tot_revol_bal_amt', 'sow_tot_revol_cnt', 'sow_tot_trans_bal_amt',\n",
       "       'sow_tot_trans_cnt'],\n",
       "      dtype='object')"
      ]
     },
     "execution_count": 784,
     "metadata": {},
     "output_type": "execute_result"
    }
   ],
   "source": [
    "train_df.columns"
   ]
  },
  {
   "cell_type": "code",
   "execution_count": 785,
   "metadata": {
    "id": "WqoqP3rgMDOk"
   },
   "outputs": [
    {
     "data": {
      "text/plain": [
       "(24595, 48)"
      ]
     },
     "execution_count": 785,
     "metadata": {},
     "output_type": "execute_result"
    }
   ],
   "source": [
    "train_df.shape"
   ]
  },
  {
   "cell_type": "code",
   "execution_count": 786,
   "metadata": {
    "id": "gt9MfGQ4MDOm"
   },
   "outputs": [
    {
     "data": {
      "text/plain": [
       "['pre6m_cust_spend',\n",
       " 'pre6m_cust_non_disc_amt',\n",
       " 'pre6m_cust_disc_amt',\n",
       " 'pre6m_cust_outbound_amt',\n",
       " 'pre6m_cust_online_amt',\n",
       " 'pre6m_cust_travel_amt',\n",
       " 'pre6m_cust_retail_amt',\n",
       " 'pre6m_total_mc_trs',\n",
       " 'acq_sub_chn',\n",
       " 'acq_type_grp',\n",
       " 'fee_type_grp',\n",
       " 'sum_total_line_amt',\n",
       " 'cust_max_credit_12m_amt',\n",
       " 'cust_max_remit_12m_amt',\n",
       " 'cnsumr_chrg_avg_credit_12m_amt',\n",
       " 'sow_tot_annual_ext_pmt_amt',\n",
       " 'sow_tot_revol_bal_amt',\n",
       " 'sow_tot_trans_bal_amt']"
      ]
     },
     "execution_count": 786,
     "metadata": {},
     "output_type": "execute_result"
    }
   ],
   "source": [
    "cat_data = [col for col in train_df.columns if train_df[col].dtype == object]\n",
    "cat_data"
   ]
  },
  {
   "cell_type": "code",
   "execution_count": 787,
   "metadata": {
    "id": "aR8UISSgMDOp"
   },
   "outputs": [
    {
     "data": {
      "text/plain": [
       "array([' 1,518 ', ' 4,807 ', ' 2,361 ', ..., ' 9,913 ', ' 9,756 ',\n",
       "       ' 13,388 '], dtype=object)"
      ]
     },
     "execution_count": 787,
     "metadata": {},
     "output_type": "execute_result"
    }
   ],
   "source": [
    "train_df['pre6m_cust_spend'].unique()"
   ]
  },
  {
   "cell_type": "code",
   "execution_count": 788,
   "metadata": {
    "id": "RZOkj-gQMDOr"
   },
   "outputs": [
    {
     "name": "stdout",
     "output_type": "stream",
     "text": [
      "pre6m_cust_spend [' 1,518 ' ' 4,807 ' ' 2,361 ' ... ' 9,913 ' ' 9,756 ' ' 13,388 ']\n",
      "pre6m_cust_non_disc_amt [' 811 ' ' 1,052 ' ' 1,351 ' ... ' 9,571 ' ' 3,760 ' ' 5,293 ']\n",
      "pre6m_cust_disc_amt [' 707 ' ' 3,756 ' ' 1,010 ' ... ' 9,084 ' ' 8,890 ' ' 1,873 ']\n",
      "pre6m_cust_outbound_amt [' -   ' ' 673 ' ' 237 ' ... ' 4,962 ' ' 6,607 ' ' 4,183 ']\n",
      "pre6m_cust_online_amt [' 606 ' ' 3,164 ' ' 693 ' ... ' 11,764 ' ' 6,442 ' ' 6,527 ']\n",
      "pre6m_cust_travel_amt [' 28 ' ' 2,291 ' ' -   ' ... ' (261)' ' 25,701 ' ' 1,898 ']\n",
      "pre6m_cust_retail_amt [' 814 ' ' 1,265 ' ' 1,623 ' ... ' 7,151 ' ' 3,975 ' ' 5,670 ']\n",
      "pre6m_total_mc_trs [' (2)' ' 15 ' ' (20)' ... ' 1,143 ' ' 867 ' ' 518 ']\n",
      "acq_sub_chn ['Unreferred' 'In House' nan 'Affiliates' 'MGM' 'Email' 'Partner'\n",
      " 'Non-PDB (Personalized)' 'Outsourced' 'PDB (Personalized)' 'Interactive'\n",
      " 'Media' 'Search' 'Direct' 'Partnerships - Other'\n",
      " 'Partnerships - In Store' 'Paid Search' 'Personalization' 'E-mails'\n",
      " 'E-Mails' 'Natural Referral' 'Proprietary - Direct Sales' 'DM' 'Outbound'\n",
      " 'Unaddressed' 'Natural Search']\n",
      "acq_type_grp ['external' 'others' nan 'spillover']\n",
      "fee_type_grp ['no_fee' 'full_fee' 'reduced_fee' 'unknown']\n",
      "sum_total_line_amt [' 80,000 ' ' 140,000 ' ' 32,800 ' ... ' 96,467 ' ' 31,533 ' ' 144,400 ']\n",
      "cust_max_credit_12m_amt [' 482 ' ' 2,165 ' ' 703 ' ... ' 6,660 ' ' 11,072 ' ' 3,037 ']\n",
      "cust_max_remit_12m_amt [' 418 ' ' 2,165 ' ' 687 ' ... ' 1,976 ' ' 11,060 ' ' 2,796 ']\n",
      "cnsumr_chrg_avg_credit_12m_amt [' -   ' ' 7 ' ' 493 ' ... ' 1,481 ' ' 2,174 ' ' 2,607 ']\n",
      "sow_tot_annual_ext_pmt_amt [' 991 ' ' 2 ' ' 4,828 ' ... ' 8,120 ' ' 4,468 ' ' 1,281 ']\n",
      "sow_tot_revol_bal_amt [' -   ' ' 24 ' ' 2,606 ' ... ' 5,025 ' ' 15,568 ' ' 14,110 ']\n",
      "sow_tot_trans_bal_amt [' -   ' ' 387 ' ' 295 ' ... ' 1,681 ' ' 1,951 ' ' 5,290 ']\n"
     ]
    }
   ],
   "source": [
    "for col in cat_data:\n",
    "    print(col,train_df[col].unique())"
   ]
  },
  {
   "cell_type": "code",
   "execution_count": 789,
   "metadata": {
    "id": "KEEP2IN7MDOt"
   },
   "outputs": [
    {
     "data": {
      "text/plain": [
       "array([ 1518,  4807,  2361, ...,  9913,  9756, 13388])"
      ]
     },
     "execution_count": 789,
     "metadata": {},
     "output_type": "execute_result"
    }
   ],
   "source": [
    "cat_2 = ['acq_sub_chn','acq_type_grp','fee_type_grp']\n",
    "cat_data  = [x for x in cat_data if x not in cat_2]\n",
    "for col in cat_data:\n",
    "    train_df[col] = train_df[col].str.replace(',', '')\n",
    "    train_df[col] = train_df[col].str.replace('(', '')\n",
    "    train_df[col] = train_df[col].str.replace(')', '')\n",
    "    train_df[col] = train_df[col].str.replace(')', '')\n",
    "    train_df[col] = train_df[col].str.replace(' ', '')\n",
    "    train_df[col] = train_df[col].str.replace('-', '0')\n",
    "    train_df[col] = train_df[col].replace(np.nan, '0')\n",
    "    train_df[col] = train_df[col].astype(int)\n",
    "#     train_df[col] = train_df[col].replace('...', np.nan)\n",
    "# for col in cat_data:\n",
    "#     print(col,train_df[col].unique())\n",
    "train_df['pre6m_cust_spend'].unique()"
   ]
  },
  {
   "cell_type": "code",
   "execution_count": 790,
   "metadata": {
    "id": "HhPJmbN4MDOv"
   },
   "outputs": [
    {
     "data": {
      "text/plain": [
       "0"
      ]
     },
     "execution_count": 790,
     "metadata": {},
     "output_type": "execute_result"
    }
   ],
   "source": [
    "train_df['fee_type_grp'].isna().sum()"
   ]
  },
  {
   "cell_type": "code",
   "execution_count": 791,
   "metadata": {
    "id": "MO-rVeckMDOy"
   },
   "outputs": [
    {
     "data": {
      "text/plain": [
       "1014"
      ]
     },
     "execution_count": 791,
     "metadata": {},
     "output_type": "execute_result"
    }
   ],
   "source": [
    "# replace field that's entirely space (or empty) with NaN\n",
    "train_df = train_df.replace(r'^\\s*$', np.nan, regex=True)\n",
    "# print(train_df.replace(r'^\\s*$', np.nan, regex=True))\n",
    "train_df['acq_type_grp'].isna().sum()"
   ]
  },
  {
   "cell_type": "code",
   "execution_count": 792,
   "metadata": {
    "id": "V5kT-5vgMDO1"
   },
   "outputs": [
    {
     "data": {
      "text/plain": [
       "1492"
      ]
     },
     "execution_count": 792,
     "metadata": {},
     "output_type": "execute_result"
    }
   ],
   "source": [
    "sum([True for idx,row in train_df.iterrows() if any(row.isnull())])"
   ]
  },
  {
   "cell_type": "code",
   "execution_count": 793,
   "metadata": {
    "id": "mqvv1sOTMDO4"
   },
   "outputs": [
    {
     "data": {
      "text/plain": [
       "1053"
      ]
     },
     "execution_count": 793,
     "metadata": {},
     "output_type": "execute_result"
    }
   ],
   "source": [
    "train_df['acq_sub_chn'].isna().sum()"
   ]
  },
  {
   "cell_type": "code",
   "execution_count": 794,
   "metadata": {
    "id": "usYr5-eJMDO7"
   },
   "outputs": [
    {
     "data": {
      "text/plain": [
       "['flag_top_ed_spender',\n",
       " 'acq_sub_chn',\n",
       " 'acq_type_grp',\n",
       " 'Cust_tenure',\n",
       " 'pre6m_spend_active_ind',\n",
       " 'highly_utilized_ind',\n",
       " 'min_pay_ind',\n",
       " 'paid_in_full_ind',\n",
       " 'direct_debit_ind',\n",
       " 'referrals',\n",
       " 'spillover',\n",
       " 'self_accts',\n",
       " 'Customer Low Quality indicator',\n",
       " 'cdss_most_rcnt_prob',\n",
       " 'cbr_3_score',\n",
       " 'cnsumr_chrg_actv_cust_cnt',\n",
       " 'cnsumr_lend_actv_cust_cnt',\n",
       " 'cnsumr_lend_tot_util_ratio',\n",
       " 'sow_revol_avg_paydown_pct',\n",
       " 'sow_tot_revol_cnt',\n",
       " 'sow_tot_trans_cnt']"
      ]
     },
     "execution_count": 794,
     "metadata": {},
     "output_type": "execute_result"
    }
   ],
   "source": [
    "missing_cols = [col for col in train_df.columns if train_df[col].isnull().any()]\n",
    "missing_cols"
   ]
  },
  {
   "cell_type": "code",
   "execution_count": 795,
   "metadata": {
    "id": "GUrgj6fgMDO9"
   },
   "outputs": [
    {
     "data": {
      "text/plain": [
       "['flag_top_ed_spender',\n",
       " 'Cust_tenure',\n",
       " 'pre6m_spend_active_ind',\n",
       " 'highly_utilized_ind',\n",
       " 'min_pay_ind',\n",
       " 'paid_in_full_ind',\n",
       " 'direct_debit_ind',\n",
       " 'referrals',\n",
       " 'spillover',\n",
       " 'self_accts',\n",
       " 'Customer Low Quality indicator',\n",
       " 'cdss_most_rcnt_prob',\n",
       " 'cbr_3_score',\n",
       " 'cnsumr_chrg_actv_cust_cnt',\n",
       " 'cnsumr_lend_actv_cust_cnt',\n",
       " 'cnsumr_lend_tot_util_ratio',\n",
       " 'sow_revol_avg_paydown_pct',\n",
       " 'sow_tot_revol_cnt',\n",
       " 'sow_tot_trans_cnt']"
      ]
     },
     "execution_count": 795,
     "metadata": {},
     "output_type": "execute_result"
    }
   ],
   "source": [
    "train_df['acq_sub_chn'].fillna(\"unknown\", inplace = True)\n",
    "train_df['acq_type_grp'].fillna(\"unknown\", inplace = True)\n",
    "train_df['fee_type_grp'].fillna(\"unknown\", inplace = True)\n",
    "missing_cols  = [x for x in missing_cols if x not in ['acq_sub_chn','acq_type_grp',]]\n",
    "missing_cols"
   ]
  },
  {
   "cell_type": "code",
   "execution_count": 796,
   "metadata": {
    "id": "GUrgj6fgMDO9"
   },
   "outputs": [
    {
     "data": {
      "text/plain": [
       "array([0.    , 0.0877, 0.0168, ..., 0.2034, 0.2068, 0.1632])"
      ]
     },
     "execution_count": 796,
     "metadata": {},
     "output_type": "execute_result"
    }
   ],
   "source": [
    "for col1 in ['flag_top_ed_spender',\n",
    "             'pre6m_spend_active_ind',\n",
    "             'highly_utilized_ind',\n",
    "             'referrals',\n",
    "             'spillover',\n",
    "            'self_accts',\n",
    "            'Customer Low Quality indicator',\n",
    "            'cnsumr_lend_actv_cust_cnt',\n",
    "             'direct_debit_ind',\n",
    "             'cnsumr_chrg_actv_cust_cnt',\n",
    "             'flag_cust_fee_paid_6m'\n",
    "            ]:\n",
    "    train_df[col1].fillna(0, inplace = True)\n",
    "train_df[ 'sow_revol_avg_paydown_pct'].unique()"
   ]
  },
  {
   "cell_type": "code",
   "execution_count": 797,
   "metadata": {
    "id": "GUrgj6fgMDO9"
   },
   "outputs": [],
   "source": [
    "for col1 in ['min_pay_ind',\n",
    "             'paid_in_full_ind',\n",
    "    ]:\n",
    "    train_df[col1].fillna(1, inplace = True)"
   ]
  },
  {
   "cell_type": "code",
   "execution_count": 798,
   "metadata": {
    "id": "oKQNA5PVMDO_"
   },
   "outputs": [],
   "source": [
    "for col1 in ['cdss_most_rcnt_prob',\n",
    "             'cbr_3_score',\n",
    "            'cnsumr_lend_tot_util_ratio',\n",
    "            'Cust_tenure',\n",
    "            'sow_revol_avg_paydown_pct', 'sow_tot_revol_cnt', 'sow_tot_trans_cnt','count_accts',\n",
    " 'cm_age','pre6m_cust_roc_cnt',\n",
    " 'pre6m_cust_non_disc_cnt',\n",
    " 'pre6m_cust_disc_cnt',\n",
    " 'pre6m_cust_online_cnt',\n",
    " 'pre6m_cust_travel_cnt',\n",
    " 'pre6m_cust_retail_cnt',\n",
    "             'pre6m_cust_myca_active',\n",
    " 'pre6m_cust_mob_logins',\n",
    "            ]:\n",
    "#     train_df[col1].fillna(0, inplace = True)\n",
    "    train_df[col1].fillna((train_df[col1].mean()), inplace = True)"
   ]
  },
  {
   "cell_type": "code",
   "execution_count": 799,
   "metadata": {
    "id": "v4UV2CClMDPB"
   },
   "outputs": [
    {
     "data": {
      "text/plain": [
       "[]"
      ]
     },
     "execution_count": 799,
     "metadata": {},
     "output_type": "execute_result"
    }
   ],
   "source": [
    "sum([True for idx,row in train_df.iterrows() if any(row.isnull())])\n",
    "missing_cols = [col for col in train_df.columns if train_df[col].isnull().any()]\n",
    "missing_cols"
   ]
  },
  {
   "cell_type": "code",
   "execution_count": 800,
   "metadata": {
    "id": "vIlThsuDMDPD"
   },
   "outputs": [
    {
     "data": {
      "text/plain": [
       "array(['Unreferred', 'In House', 'unknown', 'Affiliates', 'MGM', 'Email',\n",
       "       'Partner', 'Non-PDB (Personalized)', 'Outsourced',\n",
       "       'PDB (Personalized)', 'Interactive', 'Media', 'Search', 'Direct',\n",
       "       'Partnerships - Other', 'Partnerships - In Store', 'Paid Search',\n",
       "       'Personalization', 'E-mails', 'E-Mails', 'Natural Referral',\n",
       "       'Proprietary - Direct Sales', 'DM', 'Outbound', 'Unaddressed',\n",
       "       'Natural Search'], dtype=object)"
      ]
     },
     "execution_count": 800,
     "metadata": {},
     "output_type": "execute_result"
    }
   ],
   "source": [
    "train_df['acq_sub_chn'].unique()"
   ]
  },
  {
   "cell_type": "code",
   "execution_count": 801,
   "metadata": {
    "id": "sbhmyJGSMDPF"
   },
   "outputs": [
    {
     "data": {
      "text/plain": [
       "array(['external', 'others', 'unknown', 'spillover'], dtype=object)"
      ]
     },
     "execution_count": 801,
     "metadata": {},
     "output_type": "execute_result"
    }
   ],
   "source": [
    "train_df['acq_type_grp'].unique()"
   ]
  },
  {
   "cell_type": "code",
   "execution_count": 802,
   "metadata": {
    "id": "z3QCktXpMDPH"
   },
   "outputs": [
    {
     "data": {
      "text/plain": [
       "array(['no_fee', 'full_fee', 'reduced_fee', 'unknown'], dtype=object)"
      ]
     },
     "execution_count": 802,
     "metadata": {},
     "output_type": "execute_result"
    }
   ],
   "source": [
    "train_df['fee_type_grp'].unique()"
   ]
  },
  {
   "cell_type": "code",
   "execution_count": 803,
   "metadata": {
    "id": "VsBvQ0DVMDPJ"
   },
   "outputs": [],
   "source": [
    "from sklearn import preprocessing"
   ]
  },
  {
   "cell_type": "code",
   "execution_count": 804,
   "metadata": {
    "id": "uFq7hwNVMDPL"
   },
   "outputs": [
    {
     "data": {
      "text/plain": [
       "array([0, 1, 3, 2])"
      ]
     },
     "execution_count": 804,
     "metadata": {},
     "output_type": "execute_result"
    }
   ],
   "source": [
    "le = preprocessing.LabelEncoder()\n",
    "train_df['acq_type_grp_le']=le.fit_transform(train_df['acq_type_grp'])\n",
    "train_df['acq_type_grp_le'].unique()"
   ]
  },
  {
   "cell_type": "code",
   "execution_count": 805,
   "metadata": {
    "id": "YpaDrJaUMDPN"
   },
   "outputs": [
    {
     "data": {
      "text/plain": [
       "array([24,  6, 25,  0,  8,  5, 17, 12, 14, 15,  7,  9, 22,  2, 19, 18, 16,\n",
       "       20,  4,  3, 10, 21,  1, 13, 23, 11])"
      ]
     },
     "execution_count": 805,
     "metadata": {},
     "output_type": "execute_result"
    }
   ],
   "source": [
    "train_df['acq_sub_chn_le']=le.fit_transform(train_df['acq_sub_chn'])\n",
    "train_df['acq_sub_chn_le'].unique()"
   ]
  },
  {
   "cell_type": "code",
   "execution_count": 806,
   "metadata": {
    "id": "6J0B-7yUMDPQ"
   },
   "outputs": [
    {
     "data": {
      "text/plain": [
       "array([1, 0, 2, 3])"
      ]
     },
     "execution_count": 806,
     "metadata": {},
     "output_type": "execute_result"
    }
   ],
   "source": [
    "train_df['fee_type_grp_le']=le.fit_transform(train_df['fee_type_grp'])\n",
    "train_df['fee_type_grp_le'].unique()"
   ]
  },
  {
   "cell_type": "code",
   "execution_count": 848,
   "metadata": {
    "id": "ocYuf7XWMDPS"
   },
   "outputs": [
    {
     "name": "stdout",
     "output_type": "stream",
     "text": [
      "profitable_flag                   1.000000\n",
      "pre6m_cust_spend                  0.122924\n",
      "pre6m_cust_travel_cnt             0.112781\n",
      "pre6m_cust_disc_amt               0.112370\n",
      "pre6m_cust_travel_amt             0.103841\n",
      "cust_max_remit_12m_amt            0.103686\n",
      "cust_max_credit_12m_amt           0.103143\n",
      "pre6m_cust_roc_cnt                0.096348\n",
      "pre6m_cust_non_disc_amt           0.091580\n",
      "pre6m_cust_retail_amt             0.090721\n",
      "pre6m_cust_disc_cnt               0.087323\n",
      "pre6m_cust_outbound_amt           0.086922\n",
      "pre6m_cust_online_amt             0.083858\n",
      "pre6m_cust_non_disc_cnt           0.077625\n",
      "cnsumr_chrg_avg_credit_12m_amt    0.067118\n",
      "pre6m_total_mc_trs                0.052265\n",
      "flag_top_ed_spender               0.045787\n",
      "pre6m_cust_retail_cnt             0.045425\n",
      "sum_total_line_amt                0.043872\n",
      "pre6m_cust_online_cnt             0.043151\n",
      "pre6m_spend_active_ind            0.043024\n",
      "spillover                         0.037482\n",
      "fee_type_grp_le                   0.036341\n",
      "min_pay_ind                       0.032920\n",
      "self_accts                        0.032718\n",
      "cdss_most_rcnt_prob               0.032621\n",
      "cnsumr_lend_actv_cust_cnt         0.032286\n",
      "direct_debit_ind                  0.031757\n",
      "cbr_3_score                       0.030018\n",
      "Customer Low Quality indicator    0.027741\n",
      "sow_tot_annual_ext_pmt_amt        0.026278\n",
      "Cust_tenure                       0.026154\n",
      "referrals                         0.024680\n",
      "count_accts                       0.018371\n",
      "sow_revol_avg_paydown_pct         0.017715\n",
      "pre6m_cust_myca_active            0.017608\n",
      "cnsumr_chrg_actv_cust_cnt         0.017287\n",
      "sow_tot_trans_bal_amt             0.015567\n",
      "sow_tot_revol_cnt                 0.015184\n",
      "flag_cust_fee_paid_6m             0.014153\n",
      "cnsumr_lend_tot_util_ratio        0.012911\n",
      "paid_in_full_ind                  0.012185\n",
      "cm_age                            0.009669\n",
      "acq_type_grp_le                   0.007644\n",
      "acq_sub_chn_le                    0.005855\n",
      "pre6m_cust_mob_logins             0.005772\n",
      "sow_tot_trans_cnt                 0.004519\n",
      "sow_tot_revol_bal_amt             0.002501\n",
      "highly_utilized_ind               0.002430\n",
      "Name: profitable_flag, dtype: float64\n"
     ]
    },
    {
     "data": {
      "text/plain": [
       "Index(['acq_sub_chn_le', 'pre6m_cust_mob_logins', 'sow_tot_trans_cnt',\n",
       "       'sow_tot_revol_bal_amt', 'highly_utilized_ind'],\n",
       "      dtype='object')"
      ]
     },
     "execution_count": 848,
     "metadata": {},
     "output_type": "execute_result"
    }
   ],
   "source": [
    "# corr = train_df.corr().sort_values('profitable_flag', ascending=False)\n",
    "train_dfx = train_df.head(19595)\n",
    "train_dfc = pd.merge( flag,train_df, left_index=True, right_index=True)\n",
    "# train_df1['profitable_flag'] = df['profitable_flag']\n",
    "\n",
    "corr = abs(train_dfc.corr()).sort_values('profitable_flag', ascending=False)\n",
    "corr_col = corr.iloc[:,0].index\n",
    "print(corr.iloc[:,0])\n",
    "corr_col[-5:]"
   ]
  },
  {
   "cell_type": "code",
   "execution_count": 849,
   "metadata": {
    "id": "0x_8UzMlMDPU"
   },
   "outputs": [
    {
     "data": {
      "text/html": [
       "<div>\n",
       "<style scoped>\n",
       "    .dataframe tbody tr th:only-of-type {\n",
       "        vertical-align: middle;\n",
       "    }\n",
       "\n",
       "    .dataframe tbody tr th {\n",
       "        vertical-align: top;\n",
       "    }\n",
       "\n",
       "    .dataframe thead th {\n",
       "        text-align: right;\n",
       "    }\n",
       "</style>\n",
       "<table border=\"1\" class=\"dataframe\">\n",
       "  <thead>\n",
       "    <tr style=\"text-align: right;\">\n",
       "      <th></th>\n",
       "      <th>flag_top_ed_spender</th>\n",
       "      <th>pre6m_cust_spend</th>\n",
       "      <th>pre6m_cust_roc_cnt</th>\n",
       "      <th>pre6m_cust_non_disc_amt</th>\n",
       "      <th>pre6m_cust_non_disc_cnt</th>\n",
       "      <th>pre6m_cust_disc_amt</th>\n",
       "      <th>pre6m_cust_disc_cnt</th>\n",
       "      <th>pre6m_cust_outbound_amt</th>\n",
       "      <th>pre6m_cust_online_amt</th>\n",
       "      <th>pre6m_cust_online_cnt</th>\n",
       "      <th>...</th>\n",
       "      <th>spillover</th>\n",
       "      <th>self_accts</th>\n",
       "      <th>cdss_most_rcnt_prob</th>\n",
       "      <th>cust_max_credit_12m_amt</th>\n",
       "      <th>cust_max_remit_12m_amt</th>\n",
       "      <th>cnsumr_chrg_avg_credit_12m_amt</th>\n",
       "      <th>sow_revol_avg_paydown_pct</th>\n",
       "      <th>sow_tot_revol_cnt</th>\n",
       "      <th>sow_tot_trans_cnt</th>\n",
       "      <th>fee_type_grp_le</th>\n",
       "    </tr>\n",
       "    <tr>\n",
       "      <th>cust_id</th>\n",
       "      <th></th>\n",
       "      <th></th>\n",
       "      <th></th>\n",
       "      <th></th>\n",
       "      <th></th>\n",
       "      <th></th>\n",
       "      <th></th>\n",
       "      <th></th>\n",
       "      <th></th>\n",
       "      <th></th>\n",
       "      <th></th>\n",
       "      <th></th>\n",
       "      <th></th>\n",
       "      <th></th>\n",
       "      <th></th>\n",
       "      <th></th>\n",
       "      <th></th>\n",
       "      <th></th>\n",
       "      <th></th>\n",
       "      <th></th>\n",
       "      <th></th>\n",
       "    </tr>\n",
       "  </thead>\n",
       "  <tbody>\n",
       "    <tr>\n",
       "      <th>550391</th>\n",
       "      <td>1.0</td>\n",
       "      <td>1518</td>\n",
       "      <td>122</td>\n",
       "      <td>811</td>\n",
       "      <td>96</td>\n",
       "      <td>707</td>\n",
       "      <td>26</td>\n",
       "      <td>0</td>\n",
       "      <td>606</td>\n",
       "      <td>36</td>\n",
       "      <td>...</td>\n",
       "      <td>0.0</td>\n",
       "      <td>0.0</td>\n",
       "      <td>0.000000</td>\n",
       "      <td>482</td>\n",
       "      <td>418</td>\n",
       "      <td>0</td>\n",
       "      <td>0.000000</td>\n",
       "      <td>0.000000</td>\n",
       "      <td>3.000000</td>\n",
       "      <td>1</td>\n",
       "    </tr>\n",
       "    <tr>\n",
       "      <th>550392</th>\n",
       "      <td>0.0</td>\n",
       "      <td>4807</td>\n",
       "      <td>354</td>\n",
       "      <td>1052</td>\n",
       "      <td>82</td>\n",
       "      <td>3756</td>\n",
       "      <td>272</td>\n",
       "      <td>673</td>\n",
       "      <td>3164</td>\n",
       "      <td>456</td>\n",
       "      <td>...</td>\n",
       "      <td>1.0</td>\n",
       "      <td>0.0</td>\n",
       "      <td>0.000000</td>\n",
       "      <td>2165</td>\n",
       "      <td>2165</td>\n",
       "      <td>7</td>\n",
       "      <td>0.087700</td>\n",
       "      <td>2.000000</td>\n",
       "      <td>0.000000</td>\n",
       "      <td>1</td>\n",
       "    </tr>\n",
       "    <tr>\n",
       "      <th>550393</th>\n",
       "      <td>1.0</td>\n",
       "      <td>2361</td>\n",
       "      <td>204</td>\n",
       "      <td>1351</td>\n",
       "      <td>118</td>\n",
       "      <td>1010</td>\n",
       "      <td>86</td>\n",
       "      <td>237</td>\n",
       "      <td>693</td>\n",
       "      <td>152</td>\n",
       "      <td>...</td>\n",
       "      <td>0.0</td>\n",
       "      <td>0.0</td>\n",
       "      <td>0.000000</td>\n",
       "      <td>703</td>\n",
       "      <td>687</td>\n",
       "      <td>0</td>\n",
       "      <td>0.000000</td>\n",
       "      <td>0.000000</td>\n",
       "      <td>3.000000</td>\n",
       "      <td>0</td>\n",
       "    </tr>\n",
       "    <tr>\n",
       "      <th>550394</th>\n",
       "      <td>0.0</td>\n",
       "      <td>5452</td>\n",
       "      <td>142</td>\n",
       "      <td>1195</td>\n",
       "      <td>50</td>\n",
       "      <td>4257</td>\n",
       "      <td>92</td>\n",
       "      <td>803</td>\n",
       "      <td>1618</td>\n",
       "      <td>64</td>\n",
       "      <td>...</td>\n",
       "      <td>0.0</td>\n",
       "      <td>0.0</td>\n",
       "      <td>0.000000</td>\n",
       "      <td>1225</td>\n",
       "      <td>1225</td>\n",
       "      <td>493</td>\n",
       "      <td>0.000000</td>\n",
       "      <td>0.000000</td>\n",
       "      <td>4.000000</td>\n",
       "      <td>0</td>\n",
       "    </tr>\n",
       "    <tr>\n",
       "      <th>550395</th>\n",
       "      <td>0.0</td>\n",
       "      <td>170</td>\n",
       "      <td>34</td>\n",
       "      <td>88</td>\n",
       "      <td>20</td>\n",
       "      <td>82</td>\n",
       "      <td>14</td>\n",
       "      <td>10</td>\n",
       "      <td>10</td>\n",
       "      <td>4</td>\n",
       "      <td>...</td>\n",
       "      <td>0.0</td>\n",
       "      <td>0.0</td>\n",
       "      <td>0.001000</td>\n",
       "      <td>51</td>\n",
       "      <td>35</td>\n",
       "      <td>0</td>\n",
       "      <td>0.016800</td>\n",
       "      <td>5.000000</td>\n",
       "      <td>13.000000</td>\n",
       "      <td>1</td>\n",
       "    </tr>\n",
       "    <tr>\n",
       "      <th>...</th>\n",
       "      <td>...</td>\n",
       "      <td>...</td>\n",
       "      <td>...</td>\n",
       "      <td>...</td>\n",
       "      <td>...</td>\n",
       "      <td>...</td>\n",
       "      <td>...</td>\n",
       "      <td>...</td>\n",
       "      <td>...</td>\n",
       "      <td>...</td>\n",
       "      <td>...</td>\n",
       "      <td>...</td>\n",
       "      <td>...</td>\n",
       "      <td>...</td>\n",
       "      <td>...</td>\n",
       "      <td>...</td>\n",
       "      <td>...</td>\n",
       "      <td>...</td>\n",
       "      <td>...</td>\n",
       "      <td>...</td>\n",
       "      <td>...</td>\n",
       "    </tr>\n",
       "    <tr>\n",
       "      <th>574981</th>\n",
       "      <td>1.0</td>\n",
       "      <td>6635</td>\n",
       "      <td>160</td>\n",
       "      <td>5293</td>\n",
       "      <td>96</td>\n",
       "      <td>1342</td>\n",
       "      <td>64</td>\n",
       "      <td>421</td>\n",
       "      <td>638</td>\n",
       "      <td>32</td>\n",
       "      <td>...</td>\n",
       "      <td>0.0</td>\n",
       "      <td>0.0</td>\n",
       "      <td>0.007163</td>\n",
       "      <td>0</td>\n",
       "      <td>0</td>\n",
       "      <td>0</td>\n",
       "      <td>0.016823</td>\n",
       "      <td>0.434915</td>\n",
       "      <td>0.782872</td>\n",
       "      <td>1</td>\n",
       "    </tr>\n",
       "    <tr>\n",
       "      <th>574982</th>\n",
       "      <td>1.0</td>\n",
       "      <td>3384</td>\n",
       "      <td>612</td>\n",
       "      <td>2089</td>\n",
       "      <td>322</td>\n",
       "      <td>1295</td>\n",
       "      <td>290</td>\n",
       "      <td>95</td>\n",
       "      <td>817</td>\n",
       "      <td>232</td>\n",
       "      <td>...</td>\n",
       "      <td>0.0</td>\n",
       "      <td>0.0</td>\n",
       "      <td>0.000000</td>\n",
       "      <td>683</td>\n",
       "      <td>683</td>\n",
       "      <td>0</td>\n",
       "      <td>0.000000</td>\n",
       "      <td>0.000000</td>\n",
       "      <td>0.000000</td>\n",
       "      <td>1</td>\n",
       "    </tr>\n",
       "    <tr>\n",
       "      <th>574983</th>\n",
       "      <td>0.0</td>\n",
       "      <td>3611</td>\n",
       "      <td>620</td>\n",
       "      <td>974</td>\n",
       "      <td>138</td>\n",
       "      <td>2638</td>\n",
       "      <td>482</td>\n",
       "      <td>1343</td>\n",
       "      <td>1327</td>\n",
       "      <td>660</td>\n",
       "      <td>...</td>\n",
       "      <td>0.0</td>\n",
       "      <td>0.0</td>\n",
       "      <td>0.017000</td>\n",
       "      <td>1467</td>\n",
       "      <td>1455</td>\n",
       "      <td>0</td>\n",
       "      <td>0.000000</td>\n",
       "      <td>0.000000</td>\n",
       "      <td>0.000000</td>\n",
       "      <td>2</td>\n",
       "    </tr>\n",
       "    <tr>\n",
       "      <th>574984</th>\n",
       "      <td>0.0</td>\n",
       "      <td>926</td>\n",
       "      <td>80</td>\n",
       "      <td>290</td>\n",
       "      <td>38</td>\n",
       "      <td>635</td>\n",
       "      <td>42</td>\n",
       "      <td>19</td>\n",
       "      <td>198</td>\n",
       "      <td>48</td>\n",
       "      <td>...</td>\n",
       "      <td>0.0</td>\n",
       "      <td>0.0</td>\n",
       "      <td>0.001000</td>\n",
       "      <td>7</td>\n",
       "      <td>0</td>\n",
       "      <td>0</td>\n",
       "      <td>0.000000</td>\n",
       "      <td>0.000000</td>\n",
       "      <td>0.000000</td>\n",
       "      <td>1</td>\n",
       "    </tr>\n",
       "    <tr>\n",
       "      <th>574985</th>\n",
       "      <td>1.0</td>\n",
       "      <td>3111</td>\n",
       "      <td>356</td>\n",
       "      <td>2067</td>\n",
       "      <td>228</td>\n",
       "      <td>1043</td>\n",
       "      <td>128</td>\n",
       "      <td>369</td>\n",
       "      <td>876</td>\n",
       "      <td>168</td>\n",
       "      <td>...</td>\n",
       "      <td>0.0</td>\n",
       "      <td>0.0</td>\n",
       "      <td>0.001000</td>\n",
       "      <td>661</td>\n",
       "      <td>587</td>\n",
       "      <td>392</td>\n",
       "      <td>0.027100</td>\n",
       "      <td>2.000000</td>\n",
       "      <td>0.000000</td>\n",
       "      <td>1</td>\n",
       "    </tr>\n",
       "  </tbody>\n",
       "</table>\n",
       "<p>24595 rows × 28 columns</p>\n",
       "</div>"
      ],
      "text/plain": [
       "         flag_top_ed_spender  pre6m_cust_spend  pre6m_cust_roc_cnt  \\\n",
       "cust_id                                                              \n",
       "550391                   1.0              1518                 122   \n",
       "550392                   0.0              4807                 354   \n",
       "550393                   1.0              2361                 204   \n",
       "550394                   0.0              5452                 142   \n",
       "550395                   0.0               170                  34   \n",
       "...                      ...               ...                 ...   \n",
       "574981                   1.0              6635                 160   \n",
       "574982                   1.0              3384                 612   \n",
       "574983                   0.0              3611                 620   \n",
       "574984                   0.0               926                  80   \n",
       "574985                   1.0              3111                 356   \n",
       "\n",
       "         pre6m_cust_non_disc_amt  pre6m_cust_non_disc_cnt  \\\n",
       "cust_id                                                     \n",
       "550391                       811                       96   \n",
       "550392                      1052                       82   \n",
       "550393                      1351                      118   \n",
       "550394                      1195                       50   \n",
       "550395                        88                       20   \n",
       "...                          ...                      ...   \n",
       "574981                      5293                       96   \n",
       "574982                      2089                      322   \n",
       "574983                       974                      138   \n",
       "574984                       290                       38   \n",
       "574985                      2067                      228   \n",
       "\n",
       "         pre6m_cust_disc_amt  pre6m_cust_disc_cnt  pre6m_cust_outbound_amt  \\\n",
       "cust_id                                                                      \n",
       "550391                   707                   26                        0   \n",
       "550392                  3756                  272                      673   \n",
       "550393                  1010                   86                      237   \n",
       "550394                  4257                   92                      803   \n",
       "550395                    82                   14                       10   \n",
       "...                      ...                  ...                      ...   \n",
       "574981                  1342                   64                      421   \n",
       "574982                  1295                  290                       95   \n",
       "574983                  2638                  482                     1343   \n",
       "574984                   635                   42                       19   \n",
       "574985                  1043                  128                      369   \n",
       "\n",
       "         pre6m_cust_online_amt  pre6m_cust_online_cnt  ...  spillover  \\\n",
       "cust_id                                                ...              \n",
       "550391                     606                     36  ...        0.0   \n",
       "550392                    3164                    456  ...        1.0   \n",
       "550393                     693                    152  ...        0.0   \n",
       "550394                    1618                     64  ...        0.0   \n",
       "550395                      10                      4  ...        0.0   \n",
       "...                        ...                    ...  ...        ...   \n",
       "574981                     638                     32  ...        0.0   \n",
       "574982                     817                    232  ...        0.0   \n",
       "574983                    1327                    660  ...        0.0   \n",
       "574984                     198                     48  ...        0.0   \n",
       "574985                     876                    168  ...        0.0   \n",
       "\n",
       "         self_accts  cdss_most_rcnt_prob  cust_max_credit_12m_amt  \\\n",
       "cust_id                                                             \n",
       "550391          0.0             0.000000                      482   \n",
       "550392          0.0             0.000000                     2165   \n",
       "550393          0.0             0.000000                      703   \n",
       "550394          0.0             0.000000                     1225   \n",
       "550395          0.0             0.001000                       51   \n",
       "...             ...                  ...                      ...   \n",
       "574981          0.0             0.007163                        0   \n",
       "574982          0.0             0.000000                      683   \n",
       "574983          0.0             0.017000                     1467   \n",
       "574984          0.0             0.001000                        7   \n",
       "574985          0.0             0.001000                      661   \n",
       "\n",
       "         cust_max_remit_12m_amt  cnsumr_chrg_avg_credit_12m_amt  \\\n",
       "cust_id                                                           \n",
       "550391                      418                               0   \n",
       "550392                     2165                               7   \n",
       "550393                      687                               0   \n",
       "550394                     1225                             493   \n",
       "550395                       35                               0   \n",
       "...                         ...                             ...   \n",
       "574981                        0                               0   \n",
       "574982                      683                               0   \n",
       "574983                     1455                               0   \n",
       "574984                        0                               0   \n",
       "574985                      587                             392   \n",
       "\n",
       "         sow_revol_avg_paydown_pct  sow_tot_revol_cnt  sow_tot_trans_cnt  \\\n",
       "cust_id                                                                    \n",
       "550391                    0.000000           0.000000           3.000000   \n",
       "550392                    0.087700           2.000000           0.000000   \n",
       "550393                    0.000000           0.000000           3.000000   \n",
       "550394                    0.000000           0.000000           4.000000   \n",
       "550395                    0.016800           5.000000          13.000000   \n",
       "...                            ...                ...                ...   \n",
       "574981                    0.016823           0.434915           0.782872   \n",
       "574982                    0.000000           0.000000           0.000000   \n",
       "574983                    0.000000           0.000000           0.000000   \n",
       "574984                    0.000000           0.000000           0.000000   \n",
       "574985                    0.027100           2.000000           0.000000   \n",
       "\n",
       "         fee_type_grp_le  \n",
       "cust_id                   \n",
       "550391                 1  \n",
       "550392                 1  \n",
       "550393                 0  \n",
       "550394                 0  \n",
       "550395                 1  \n",
       "...                  ...  \n",
       "574981                 1  \n",
       "574982                 1  \n",
       "574983                 2  \n",
       "574984                 1  \n",
       "574985                 1  \n",
       "\n",
       "[24595 rows x 28 columns]"
      ]
     },
     "execution_count": 849,
     "metadata": {},
     "output_type": "execute_result"
    }
   ],
   "source": [
    "# train_df_temp = train_df.drop(['sow_revol_avg_paydown_pct','sow_tot_revol_cnt',\n",
    "#  'sow_tot_trans_cnt','fee_type_grp','acq_sub_chn','acq_type_grp'], axis = 1)\n",
    "train_df_temp = train_df.drop(['fee_type_grp','acq_sub_chn','acq_type_grp'], axis = 1)\n",
    "corr_col  = [x for x in corr_col if x not in ['sow_revol_avg_paydown_pct','sow_tot_revol_cnt',\n",
    " 'sow_tot_trans_cnt']]\n",
    "train_df1 = train_df_temp.drop(corr_col[-20:], axis = 1)\n",
    "train_df1"
   ]
  },
  {
   "cell_type": "code",
   "execution_count": 850,
   "metadata": {
    "id": "igMdHD1PMDPY"
   },
   "outputs": [
    {
     "data": {
      "text/plain": [
       "(19595,)"
      ]
     },
     "execution_count": 850,
     "metadata": {},
     "output_type": "execute_result"
    }
   ],
   "source": [
    "y = flag\n",
    "X = train_df1.head(19595)\n",
    "y.shape"
   ]
  },
  {
   "cell_type": "code",
   "execution_count": 851,
   "metadata": {
    "id": "PEmNrBdzMDPZ"
   },
   "outputs": [
    {
     "data": {
      "text/plain": [
       "(19595, 28)"
      ]
     },
     "execution_count": 851,
     "metadata": {},
     "output_type": "execute_result"
    }
   ],
   "source": [
    "X.shape"
   ]
  },
  {
   "cell_type": "code",
   "execution_count": 852,
   "metadata": {
    "id": "D13Hpz53MDPb"
   },
   "outputs": [
    {
     "name": "stdout",
     "output_type": "stream",
     "text": [
      "         flag_top_ed_spender  pre6m_cust_spend  pre6m_cust_roc_cnt  \\\n",
      "cust_id                                                              \n",
      "569986                   0.0              9868                 760   \n",
      "569987                   0.0                 0                   0   \n",
      "569988                   1.0              2401                 302   \n",
      "569989                   1.0              9836                 856   \n",
      "569990                   0.0              2351                 260   \n",
      "...                      ...               ...                 ...   \n",
      "574981                   1.0              6635                 160   \n",
      "574982                   1.0              3384                 612   \n",
      "574983                   0.0              3611                 620   \n",
      "574984                   0.0               926                  80   \n",
      "574985                   1.0              3111                 356   \n",
      "\n",
      "         pre6m_cust_non_disc_amt  pre6m_cust_non_disc_cnt  \\\n",
      "cust_id                                                     \n",
      "569986                       777                      174   \n",
      "569987                         0                        0   \n",
      "569988                      1045                      166   \n",
      "569989                       829                      190   \n",
      "569990                       584                       90   \n",
      "...                          ...                      ...   \n",
      "574981                      5293                       96   \n",
      "574982                      2089                      322   \n",
      "574983                       974                      138   \n",
      "574984                       290                       38   \n",
      "574985                      2067                      228   \n",
      "\n",
      "         pre6m_cust_disc_amt  pre6m_cust_disc_cnt  pre6m_cust_outbound_amt  \\\n",
      "cust_id                                                                      \n",
      "569986                  9091                  586                     1705   \n",
      "569987                     0                    0                        0   \n",
      "569988                  1357                  136                      289   \n",
      "569989                  9007                  666                     2104   \n",
      "569990                  1767                  170                       63   \n",
      "...                      ...                  ...                      ...   \n",
      "574981                  1342                   64                      421   \n",
      "574982                  1295                  290                       95   \n",
      "574983                  2638                  482                     1343   \n",
      "574984                   635                   42                       19   \n",
      "574985                  1043                  128                      369   \n",
      "\n",
      "         pre6m_cust_online_amt  pre6m_cust_online_cnt  ...  spillover  \\\n",
      "cust_id                                                ...              \n",
      "569986                    2286                    280  ...        0.0   \n",
      "569987                       0                      0  ...        0.0   \n",
      "569988                     483                     96  ...        0.0   \n",
      "569989                    2545                    292  ...        0.0   \n",
      "569990                     282                     56  ...        0.0   \n",
      "...                        ...                    ...  ...        ...   \n",
      "574981                     638                     32  ...        0.0   \n",
      "574982                     817                    232  ...        0.0   \n",
      "574983                    1327                    660  ...        0.0   \n",
      "574984                     198                     48  ...        0.0   \n",
      "574985                     876                    168  ...        0.0   \n",
      "\n",
      "         self_accts  cdss_most_rcnt_prob  cust_max_credit_12m_amt  \\\n",
      "cust_id                                                             \n",
      "569986          0.0             0.048000                     1880   \n",
      "569987          0.0             0.007163                        0   \n",
      "569988          0.0             0.000000                      739   \n",
      "569989          0.0             0.000000                     1864   \n",
      "569990          0.0             0.000000                      752   \n",
      "...             ...                  ...                      ...   \n",
      "574981          0.0             0.007163                        0   \n",
      "574982          0.0             0.000000                      683   \n",
      "574983          0.0             0.017000                     1467   \n",
      "574984          0.0             0.001000                        7   \n",
      "574985          0.0             0.001000                      661   \n",
      "\n",
      "         cust_max_remit_12m_amt  cnsumr_chrg_avg_credit_12m_amt  \\\n",
      "cust_id                                                           \n",
      "569986                     1875                               0   \n",
      "569987                        0                               0   \n",
      "569988                      618                              43   \n",
      "569989                     1851                             829   \n",
      "569990                      731                               0   \n",
      "...                         ...                             ...   \n",
      "574981                        0                               0   \n",
      "574982                      683                               0   \n",
      "574983                     1455                               0   \n",
      "574984                        0                               0   \n",
      "574985                      587                             392   \n",
      "\n",
      "         sow_revol_avg_paydown_pct  sow_tot_revol_cnt  sow_tot_trans_cnt  \\\n",
      "cust_id                                                                    \n",
      "569986                    0.000000           0.000000           0.000000   \n",
      "569987                    0.016823           0.434915           0.782872   \n",
      "569988                    0.000000           0.000000           0.000000   \n",
      "569989                    0.000000           0.000000           0.000000   \n",
      "569990                    0.000000           0.000000           0.000000   \n",
      "...                            ...                ...                ...   \n",
      "574981                    0.016823           0.434915           0.782872   \n",
      "574982                    0.000000           0.000000           0.000000   \n",
      "574983                    0.000000           0.000000           0.000000   \n",
      "574984                    0.000000           0.000000           0.000000   \n",
      "574985                    0.027100           2.000000           0.000000   \n",
      "\n",
      "         fee_type_grp_le  \n",
      "cust_id                   \n",
      "569986                 1  \n",
      "569987                 2  \n",
      "569988                 1  \n",
      "569989                 2  \n",
      "569990                 1  \n",
      "...                  ...  \n",
      "574981                 1  \n",
      "574982                 1  \n",
      "574983                 2  \n",
      "574984                 1  \n",
      "574985                 1  \n",
      "\n",
      "[5000 rows x 28 columns]\n"
     ]
    }
   ],
   "source": [
    "from sklearn.model_selection import train_test_split\n",
    "from sklearn.metrics import f1_score\n",
    "from sklearn.metrics import confusion_matrix\n",
    "from sklearn.metrics import average_precision_score\n",
    "\n",
    "# X_train, X_test, y_train, y_test = train_test_split(X, y, test_size=0.5)\n",
    "# print(X_train.shape, X_test.shape, y_train.shape, y_test.shape)\n",
    "X_train = X\n",
    "y_train = y\n",
    "X_test = train_df1.tail(5000)\n",
    "print(X_test)"
   ]
  },
  {
   "cell_type": "code",
   "execution_count": 853,
   "metadata": {
    "id": "N02_pspnMDPg"
   },
   "outputs": [
    {
     "name": "stdout",
     "output_type": "stream",
     "text": [
      "(19595, 28) (5000, 28) (19595,)\n"
     ]
    }
   ],
   "source": [
    "print(X_train.shape, X_test.shape, y_train.shape)"
   ]
  },
  {
   "cell_type": "code",
   "execution_count": 854,
   "metadata": {
    "id": "DVKS6IHdMDPi"
   },
   "outputs": [
    {
     "name": "stdout",
     "output_type": "stream",
     "text": [
      "0.9984179637662669\n",
      "0.9973798557120019\n"
     ]
    },
    {
     "data": {
      "text/plain": [
       "0.992973137845602"
      ]
     },
     "execution_count": 854,
     "metadata": {},
     "output_type": "execute_result"
    }
   ],
   "source": [
    "from sklearn.ensemble import RandomForestClassifier\n",
    "# model2 = RandomForestClassifier(max_depth=2, random_state=1)\n",
    "model = RandomForestClassifier()\n",
    "model.fit(X_train,y_train)\n",
    "y_pred = model.predict(X_test)\n",
    "print(model.score(X_train,y_train))\n",
    "print(f1_score(y_train, model.predict(X_train), average='macro'))\n",
    "average_precision_score(y_train, model.predict(X_train))"
   ]
  },
  {
   "cell_type": "code",
   "execution_count": 855,
   "metadata": {},
   "outputs": [],
   "source": [
    "# tn, fp, fn, tp = confusion_matrix(y_test, y_pred).ravel()\n",
    "# recall = tp / (tp + fn)\n",
    "# prec = tp / (tp + fp)\n",
    "# F1 = 2 * recall * prec / (recall + prec)\n",
    "# print(recall, prec, F1)"
   ]
  },
  {
   "cell_type": "code",
   "execution_count": 856,
   "metadata": {},
   "outputs": [
    {
     "data": {
      "text/html": [
       "<div>\n",
       "<style scoped>\n",
       "    .dataframe tbody tr th:only-of-type {\n",
       "        vertical-align: middle;\n",
       "    }\n",
       "\n",
       "    .dataframe tbody tr th {\n",
       "        vertical-align: top;\n",
       "    }\n",
       "\n",
       "    .dataframe thead th {\n",
       "        text-align: right;\n",
       "    }\n",
       "</style>\n",
       "<table border=\"1\" class=\"dataframe\">\n",
       "  <thead>\n",
       "    <tr style=\"text-align: right;\">\n",
       "      <th></th>\n",
       "    </tr>\n",
       "    <tr>\n",
       "      <th>cust_id</th>\n",
       "    </tr>\n",
       "  </thead>\n",
       "  <tbody>\n",
       "    <tr>\n",
       "      <th>569986</th>\n",
       "    </tr>\n",
       "    <tr>\n",
       "      <th>569987</th>\n",
       "    </tr>\n",
       "    <tr>\n",
       "      <th>569988</th>\n",
       "    </tr>\n",
       "    <tr>\n",
       "      <th>569989</th>\n",
       "    </tr>\n",
       "    <tr>\n",
       "      <th>569990</th>\n",
       "    </tr>\n",
       "    <tr>\n",
       "      <th>...</th>\n",
       "    </tr>\n",
       "    <tr>\n",
       "      <th>574981</th>\n",
       "    </tr>\n",
       "    <tr>\n",
       "      <th>574982</th>\n",
       "    </tr>\n",
       "    <tr>\n",
       "      <th>574983</th>\n",
       "    </tr>\n",
       "    <tr>\n",
       "      <th>574984</th>\n",
       "    </tr>\n",
       "    <tr>\n",
       "      <th>574985</th>\n",
       "    </tr>\n",
       "  </tbody>\n",
       "</table>\n",
       "<p>5000 rows × 0 columns</p>\n",
       "</div>"
      ],
      "text/plain": [
       "Empty DataFrame\n",
       "Columns: []\n",
       "Index: [569986, 569987, 569988, 569989, 569990, 569991, 569992, 569993, 569994, 569995, 569996, 569997, 569998, 569999, 570000, 570001, 570002, 570003, 570004, 570005, 570006, 570007, 570008, 570009, 570010, 570011, 570012, 570013, 570014, 570015, 570016, 570017, 570018, 570019, 570020, 570021, 570022, 570023, 570024, 570025, 570026, 570027, 570028, 570029, 570030, 570031, 570032, 570033, 570034, 570035, 570036, 570037, 570038, 570039, 570040, 570041, 570042, 570043, 570044, 570045, 570046, 570047, 570048, 570049, 570050, 570051, 570052, 570053, 570054, 570055, 570056, 570057, 570058, 570059, 570060, 570061, 570062, 570063, 570064, 570065, 570066, 570067, 570068, 570069, 570070, 570071, 570072, 570073, 570074, 570075, 570076, 570077, 570078, 570079, 570080, 570081, 570082, 570083, 570084, 570085, ...]\n",
       "\n",
       "[5000 rows x 0 columns]"
      ]
     },
     "execution_count": 856,
     "metadata": {},
     "output_type": "execute_result"
    }
   ],
   "source": [
    "y_pred.shape\n",
    "df = X_test.copy()[[]]\n",
    "df"
   ]
  },
  {
   "cell_type": "code",
   "execution_count": 857,
   "metadata": {},
   "outputs": [
    {
     "data": {
      "text/html": [
       "<div>\n",
       "<style scoped>\n",
       "    .dataframe tbody tr th:only-of-type {\n",
       "        vertical-align: middle;\n",
       "    }\n",
       "\n",
       "    .dataframe tbody tr th {\n",
       "        vertical-align: top;\n",
       "    }\n",
       "\n",
       "    .dataframe thead th {\n",
       "        text-align: right;\n",
       "    }\n",
       "</style>\n",
       "<table border=\"1\" class=\"dataframe\">\n",
       "  <thead>\n",
       "    <tr style=\"text-align: right;\">\n",
       "      <th></th>\n",
       "      <th>profitable_flag</th>\n",
       "      <th>new_index</th>\n",
       "    </tr>\n",
       "  </thead>\n",
       "  <tbody>\n",
       "    <tr>\n",
       "      <th>0</th>\n",
       "      <td>1</td>\n",
       "      <td>569986</td>\n",
       "    </tr>\n",
       "    <tr>\n",
       "      <th>1</th>\n",
       "      <td>0</td>\n",
       "      <td>569987</td>\n",
       "    </tr>\n",
       "    <tr>\n",
       "      <th>2</th>\n",
       "      <td>0</td>\n",
       "      <td>569988</td>\n",
       "    </tr>\n",
       "    <tr>\n",
       "      <th>3</th>\n",
       "      <td>0</td>\n",
       "      <td>569989</td>\n",
       "    </tr>\n",
       "    <tr>\n",
       "      <th>4</th>\n",
       "      <td>0</td>\n",
       "      <td>569990</td>\n",
       "    </tr>\n",
       "    <tr>\n",
       "      <th>...</th>\n",
       "      <td>...</td>\n",
       "      <td>...</td>\n",
       "    </tr>\n",
       "    <tr>\n",
       "      <th>4995</th>\n",
       "      <td>0</td>\n",
       "      <td>574981</td>\n",
       "    </tr>\n",
       "    <tr>\n",
       "      <th>4996</th>\n",
       "      <td>0</td>\n",
       "      <td>574982</td>\n",
       "    </tr>\n",
       "    <tr>\n",
       "      <th>4997</th>\n",
       "      <td>0</td>\n",
       "      <td>574983</td>\n",
       "    </tr>\n",
       "    <tr>\n",
       "      <th>4998</th>\n",
       "      <td>0</td>\n",
       "      <td>574984</td>\n",
       "    </tr>\n",
       "    <tr>\n",
       "      <th>4999</th>\n",
       "      <td>0</td>\n",
       "      <td>574985</td>\n",
       "    </tr>\n",
       "  </tbody>\n",
       "</table>\n",
       "<p>5000 rows × 2 columns</p>\n",
       "</div>"
      ],
      "text/plain": [
       "      profitable_flag  new_index\n",
       "0                   1     569986\n",
       "1                   0     569987\n",
       "2                   0     569988\n",
       "3                   0     569989\n",
       "4                   0     569990\n",
       "...               ...        ...\n",
       "4995                0     574981\n",
       "4996                0     574982\n",
       "4997                0     574983\n",
       "4998                0     574984\n",
       "4999                0     574985\n",
       "\n",
       "[5000 rows x 2 columns]"
      ]
     },
     "execution_count": 857,
     "metadata": {},
     "output_type": "execute_result"
    }
   ],
   "source": [
    "final_output =  pd.DataFrame(data=y_pred,columns=['profitable_flag'])\n",
    "# df['profitable_flag']=final_output\n",
    "final_output['new_index'] = range(569986, 574986, 1)\n",
    "final_output"
   ]
  },
  {
   "cell_type": "code",
   "execution_count": 858,
   "metadata": {},
   "outputs": [],
   "source": [
    "out1 = final_output[['new_index','profitable_flag']]\n",
    "out1.head()\n",
    "out1.to_csv('prediction.csv',index=False,header=False)"
   ]
  },
  {
   "cell_type": "code",
   "execution_count": null,
   "metadata": {},
   "outputs": [],
   "source": []
  }
 ],
 "metadata": {
  "colab": {
   "name": "amex.ipynb",
   "provenance": []
  },
  "kernelspec": {
   "display_name": "Python 3",
   "language": "python",
   "name": "python3"
  },
  "language_info": {
   "codemirror_mode": {
    "name": "ipython",
    "version": 3
   },
   "file_extension": ".py",
   "mimetype": "text/x-python",
   "name": "python",
   "nbconvert_exporter": "python",
   "pygments_lexer": "ipython3",
   "version": "3.7.6"
  }
 },
 "nbformat": 4,
 "nbformat_minor": 4
}
